{
 "cells": [
  {
   "cell_type": "markdown",
   "metadata": {},
   "source": [
    "## HW: Regression ##\n",
    "\n",
    "### due 2019-10-29 ###\n",
    "\n",
    "HW submission by group (up to 4 people)\n",
    "* Taoyu Cai <taoyuc3@illinois.edu>"
   ]
  },
  {
   "cell_type": "markdown",
   "metadata": {},
   "source": [
    "### imports ###"
   ]
  },
  {
   "cell_type": "code",
   "execution_count": 1,
   "metadata": {},
   "outputs": [],
   "source": [
    "import numpy\n",
    "import pandas\n",
    "import time\n",
    "import random\n",
    "import matplotlib\n",
    "#%matplotlib notebook\n",
    "import matplotlib.pyplot as plt\n",
    "import scipy.stats\n",
    "import matplotlib.offsetbox as offsetbox\n",
    "from matplotlib.ticker import StrMethodFormatter\n",
    "from scipy.optimize import minimize\n"
   ]
  },
  {
   "cell_type": "code",
   "execution_count": 2,
   "metadata": {},
   "outputs": [],
   "source": [
    "params={\n",
    "    \"font.size\":15,\n",
    "    \"lines.linewidth\":5,\n",
    "}\n",
    "plt.rcParams.update(params)"
   ]
  },
  {
   "cell_type": "markdown",
   "metadata": {},
   "source": [
    "**Problem:**  Download historical ticker prices for AAPL and MSFT from <https://finance.yahoo.com/>\n",
    "Compute and then plot the returns\n",
    "Regress AAPL on MSFT and then regress MSFT on AAPL.  Which is a \"better\" regression (i.e., does MSFT drive AAPL or vice versa?)"
   ]
  },
  {
   "cell_type": "code",
   "execution_count": 3,
   "metadata": {},
   "outputs": [],
   "source": [
    "MS=\"MSFT\"\n",
    "AP=\"AAPL\""
   ]
  },
  {
   "cell_type": "code",
   "execution_count": 4,
   "metadata": {},
   "outputs": [
    {
     "name": "stdout",
     "output_type": "stream",
     "text": [
      "Date\n",
      "2019-10-14    139.550003\n",
      "2019-10-15    141.570007\n",
      "2019-10-16    140.410004\n",
      "2019-10-17    139.690002\n",
      "2019-10-18    137.410004\n",
      "2019-10-21    138.429993\n",
      "2019-10-22    136.369995\n",
      "2019-10-23    137.240005\n",
      "2019-10-24    139.940002\n",
      "2019-10-25    140.729996\n",
      "Name: MSFT, dtype: float64\n",
      "\n",
      " Date\n",
      "2019-10-14    235.869995\n",
      "2019-10-15    235.320007\n",
      "2019-10-16    234.369995\n",
      "2019-10-17    235.279999\n",
      "2019-10-18    236.410004\n",
      "2019-10-21    240.509995\n",
      "2019-10-22    239.960007\n",
      "2019-10-23    243.179993\n",
      "2019-10-24    243.580002\n",
      "2019-10-25    246.580002\n",
      "Name: AAPL, dtype: float64\n"
     ]
    }
   ],
   "source": [
    "def getdata(ticker):\n",
    "    data=pandas.read_csv(ticker +\".csv\",index_col=0)\n",
    "    data.index = pandas.to_datetime(data.index)\n",
    "    S=pandas.Series(data[\"Adj Close\"],name=ticker)\n",
    "    return S.copy()\n",
    "\n",
    "ms=getdata(MS)\n",
    "ap=getdata(AP)\n",
    "\n",
    "print(ms.tail(n=10))\n",
    "print(\"\\n\",ap.tail(n=10))"
   ]
  },
  {
   "cell_type": "code",
   "execution_count": 5,
   "metadata": {},
   "outputs": [
    {
     "data": {
      "text/html": [
       "<div>\n",
       "<style scoped>\n",
       "    .dataframe tbody tr th:only-of-type {\n",
       "        vertical-align: middle;\n",
       "    }\n",
       "\n",
       "    .dataframe tbody tr th {\n",
       "        vertical-align: top;\n",
       "    }\n",
       "\n",
       "    .dataframe thead th {\n",
       "        text-align: right;\n",
       "    }\n",
       "</style>\n",
       "<table border=\"1\" class=\"dataframe\">\n",
       "  <thead>\n",
       "    <tr style=\"text-align: right;\">\n",
       "      <th></th>\n",
       "      <th>MSFT</th>\n",
       "      <th>AAPL</th>\n",
       "    </tr>\n",
       "    <tr>\n",
       "      <th>Date</th>\n",
       "      <th></th>\n",
       "      <th></th>\n",
       "    </tr>\n",
       "  </thead>\n",
       "  <tbody>\n",
       "    <tr>\n",
       "      <td>2019-10-14</td>\n",
       "      <td>139.550003</td>\n",
       "      <td>235.869995</td>\n",
       "    </tr>\n",
       "    <tr>\n",
       "      <td>2019-10-15</td>\n",
       "      <td>141.570007</td>\n",
       "      <td>235.320007</td>\n",
       "    </tr>\n",
       "    <tr>\n",
       "      <td>2019-10-16</td>\n",
       "      <td>140.410004</td>\n",
       "      <td>234.369995</td>\n",
       "    </tr>\n",
       "    <tr>\n",
       "      <td>2019-10-17</td>\n",
       "      <td>139.690002</td>\n",
       "      <td>235.279999</td>\n",
       "    </tr>\n",
       "    <tr>\n",
       "      <td>2019-10-18</td>\n",
       "      <td>137.410004</td>\n",
       "      <td>236.410004</td>\n",
       "    </tr>\n",
       "    <tr>\n",
       "      <td>2019-10-21</td>\n",
       "      <td>138.429993</td>\n",
       "      <td>240.509995</td>\n",
       "    </tr>\n",
       "    <tr>\n",
       "      <td>2019-10-22</td>\n",
       "      <td>136.369995</td>\n",
       "      <td>239.960007</td>\n",
       "    </tr>\n",
       "    <tr>\n",
       "      <td>2019-10-23</td>\n",
       "      <td>137.240005</td>\n",
       "      <td>243.179993</td>\n",
       "    </tr>\n",
       "    <tr>\n",
       "      <td>2019-10-24</td>\n",
       "      <td>139.940002</td>\n",
       "      <td>243.580002</td>\n",
       "    </tr>\n",
       "    <tr>\n",
       "      <td>2019-10-25</td>\n",
       "      <td>140.729996</td>\n",
       "      <td>246.580002</td>\n",
       "    </tr>\n",
       "  </tbody>\n",
       "</table>\n",
       "</div>"
      ],
      "text/plain": [
       "                  MSFT        AAPL\n",
       "Date                              \n",
       "2019-10-14  139.550003  235.869995\n",
       "2019-10-15  141.570007  235.320007\n",
       "2019-10-16  140.410004  234.369995\n",
       "2019-10-17  139.690002  235.279999\n",
       "2019-10-18  137.410004  236.410004\n",
       "2019-10-21  138.429993  240.509995\n",
       "2019-10-22  136.369995  239.960007\n",
       "2019-10-23  137.240005  243.179993\n",
       "2019-10-24  139.940002  243.580002\n",
       "2019-10-25  140.729996  246.580002"
      ]
     },
     "execution_count": 5,
     "metadata": {},
     "output_type": "execute_result"
    }
   ],
   "source": [
    "data_raw=pandas.concat([ms,ap],axis=\"columns\",join=\"inner\")\n",
    "data_raw.tail(n=10)"
   ]
  },
  {
   "cell_type": "code",
   "execution_count": 6,
   "metadata": {},
   "outputs": [
    {
     "data": {
      "text/html": [
       "<div>\n",
       "<style scoped>\n",
       "    .dataframe tbody tr th:only-of-type {\n",
       "        vertical-align: middle;\n",
       "    }\n",
       "\n",
       "    .dataframe tbody tr th {\n",
       "        vertical-align: top;\n",
       "    }\n",
       "\n",
       "    .dataframe thead th {\n",
       "        text-align: right;\n",
       "    }\n",
       "</style>\n",
       "<table border=\"1\" class=\"dataframe\">\n",
       "  <thead>\n",
       "    <tr style=\"text-align: right;\">\n",
       "      <th></th>\n",
       "      <th>MSFT</th>\n",
       "      <th>AAPL</th>\n",
       "    </tr>\n",
       "    <tr>\n",
       "      <th>Date</th>\n",
       "      <th></th>\n",
       "      <th></th>\n",
       "    </tr>\n",
       "  </thead>\n",
       "  <tbody>\n",
       "    <tr>\n",
       "      <td>2019-10-14</td>\n",
       "      <td>139.550003</td>\n",
       "      <td>235.869995</td>\n",
       "    </tr>\n",
       "    <tr>\n",
       "      <td>2019-10-15</td>\n",
       "      <td>141.570007</td>\n",
       "      <td>235.320007</td>\n",
       "    </tr>\n",
       "    <tr>\n",
       "      <td>2019-10-16</td>\n",
       "      <td>140.410004</td>\n",
       "      <td>234.369995</td>\n",
       "    </tr>\n",
       "    <tr>\n",
       "      <td>2019-10-17</td>\n",
       "      <td>139.690002</td>\n",
       "      <td>235.279999</td>\n",
       "    </tr>\n",
       "    <tr>\n",
       "      <td>2019-10-18</td>\n",
       "      <td>137.410004</td>\n",
       "      <td>236.410004</td>\n",
       "    </tr>\n",
       "    <tr>\n",
       "      <td>2019-10-21</td>\n",
       "      <td>138.429993</td>\n",
       "      <td>240.509995</td>\n",
       "    </tr>\n",
       "    <tr>\n",
       "      <td>2019-10-22</td>\n",
       "      <td>136.369995</td>\n",
       "      <td>239.960007</td>\n",
       "    </tr>\n",
       "    <tr>\n",
       "      <td>2019-10-23</td>\n",
       "      <td>137.240005</td>\n",
       "      <td>243.179993</td>\n",
       "    </tr>\n",
       "    <tr>\n",
       "      <td>2019-10-24</td>\n",
       "      <td>139.940002</td>\n",
       "      <td>243.580002</td>\n",
       "    </tr>\n",
       "    <tr>\n",
       "      <td>2019-10-25</td>\n",
       "      <td>140.729996</td>\n",
       "      <td>246.580002</td>\n",
       "    </tr>\n",
       "  </tbody>\n",
       "</table>\n",
       "</div>"
      ],
      "text/plain": [
       "                  MSFT        AAPL\n",
       "Date                              \n",
       "2019-10-14  139.550003  235.869995\n",
       "2019-10-15  141.570007  235.320007\n",
       "2019-10-16  140.410004  234.369995\n",
       "2019-10-17  139.690002  235.279999\n",
       "2019-10-18  137.410004  236.410004\n",
       "2019-10-21  138.429993  240.509995\n",
       "2019-10-22  136.369995  239.960007\n",
       "2019-10-23  137.240005  243.179993\n",
       "2019-10-24  139.940002  243.580002\n",
       "2019-10-25  140.729996  246.580002"
      ]
     },
     "execution_count": 6,
     "metadata": {},
     "output_type": "execute_result"
    }
   ],
   "source": [
    "prices=data_raw.copy()\n",
    "prices.tail(n=10)"
   ]
  },
  {
   "cell_type": "code",
   "execution_count": 7,
   "metadata": {},
   "outputs": [
    {
     "data": {
      "text/html": [
       "<div>\n",
       "<style scoped>\n",
       "    .dataframe tbody tr th:only-of-type {\n",
       "        vertical-align: middle;\n",
       "    }\n",
       "\n",
       "    .dataframe tbody tr th {\n",
       "        vertical-align: top;\n",
       "    }\n",
       "\n",
       "    .dataframe thead th {\n",
       "        text-align: right;\n",
       "    }\n",
       "</style>\n",
       "<table border=\"1\" class=\"dataframe\">\n",
       "  <thead>\n",
       "    <tr style=\"text-align: right;\">\n",
       "      <th></th>\n",
       "      <th>MSFT</th>\n",
       "      <th>AAPL</th>\n",
       "    </tr>\n",
       "    <tr>\n",
       "      <th>Date</th>\n",
       "      <th></th>\n",
       "      <th></th>\n",
       "    </tr>\n",
       "  </thead>\n",
       "  <tbody>\n",
       "    <tr>\n",
       "      <td>2019-10-14</td>\n",
       "      <td>-0.000931</td>\n",
       "      <td>-0.001439</td>\n",
       "    </tr>\n",
       "    <tr>\n",
       "      <td>2019-10-15</td>\n",
       "      <td>0.014475</td>\n",
       "      <td>-0.002332</td>\n",
       "    </tr>\n",
       "    <tr>\n",
       "      <td>2019-10-16</td>\n",
       "      <td>-0.008194</td>\n",
       "      <td>-0.004037</td>\n",
       "    </tr>\n",
       "    <tr>\n",
       "      <td>2019-10-17</td>\n",
       "      <td>-0.005128</td>\n",
       "      <td>0.003883</td>\n",
       "    </tr>\n",
       "    <tr>\n",
       "      <td>2019-10-18</td>\n",
       "      <td>-0.016322</td>\n",
       "      <td>0.004803</td>\n",
       "    </tr>\n",
       "    <tr>\n",
       "      <td>2019-10-21</td>\n",
       "      <td>0.007423</td>\n",
       "      <td>0.017343</td>\n",
       "    </tr>\n",
       "    <tr>\n",
       "      <td>2019-10-22</td>\n",
       "      <td>-0.014881</td>\n",
       "      <td>-0.002287</td>\n",
       "    </tr>\n",
       "    <tr>\n",
       "      <td>2019-10-23</td>\n",
       "      <td>0.006380</td>\n",
       "      <td>0.013419</td>\n",
       "    </tr>\n",
       "    <tr>\n",
       "      <td>2019-10-24</td>\n",
       "      <td>0.019674</td>\n",
       "      <td>0.001645</td>\n",
       "    </tr>\n",
       "    <tr>\n",
       "      <td>2019-10-25</td>\n",
       "      <td>0.005645</td>\n",
       "      <td>0.012316</td>\n",
       "    </tr>\n",
       "  </tbody>\n",
       "</table>\n",
       "</div>"
      ],
      "text/plain": [
       "                MSFT      AAPL\n",
       "Date                          \n",
       "2019-10-14 -0.000931 -0.001439\n",
       "2019-10-15  0.014475 -0.002332\n",
       "2019-10-16 -0.008194 -0.004037\n",
       "2019-10-17 -0.005128  0.003883\n",
       "2019-10-18 -0.016322  0.004803\n",
       "2019-10-21  0.007423  0.017343\n",
       "2019-10-22 -0.014881 -0.002287\n",
       "2019-10-23  0.006380  0.013419\n",
       "2019-10-24  0.019674  0.001645\n",
       "2019-10-25  0.005645  0.012316"
      ]
     },
     "execution_count": 7,
     "metadata": {},
     "output_type": "execute_result"
    }
   ],
   "source": [
    "returns=prices/prices.shift()-1\n",
    "returns=returns.dropna(axis=\"index\")\n",
    "returns.tail(n=10)"
   ]
  },
  {
   "cell_type": "code",
   "execution_count": 8,
   "metadata": {},
   "outputs": [
    {
     "name": "stderr",
     "output_type": "stream",
     "text": [
      "/Users/taoyucai/opt/anaconda3/lib/python3.7/site-packages/pandas/plotting/_matplotlib/converter.py:103: FutureWarning: Using an implicitly registered datetime converter for a matplotlib plotting method. The converter was registered by pandas on import. Future versions of pandas will require you to explicitly register matplotlib converters.\n",
      "\n",
      "To register the converters:\n",
      "\t>>> from pandas.plotting import register_matplotlib_converters\n",
      "\t>>> register_matplotlib_converters()\n",
      "  warnings.warn(msg, FutureWarning)\n"
     ]
    },
    {
     "data": {
      "image/png": "[encoded data removed]",
      "text/plain": [
       "<Figure size 432x288 with 1 Axes>"
      ]
     },
     "metadata": {
      "needs_background": "light"
     },
     "output_type": "display_data"
    }
   ],
   "source": [
    "# plt.figure()\n",
    "plt.plot(returns.index,returns[\"MSFT\"].values,label=MS,color=\"orange\",linewidth=3)\n",
    "plt.plot(returns.index,returns[\"AAPL\"].values,label=AP,color=\"purple\",linewidth=2)\n",
    "plt.legend()\n",
    "plt.title(\"Returns\")\n",
    "plt.xticks(rotation=25)\n",
    "# saver(\"returns\")\n",
    "plt.show()\n",
    "# plt.close()"
   ]
  },
  {
   "cell_type": "markdown",
   "metadata": {},
   "source": [
    "## Regress AAPL on MSFT"
   ]
  },
  {
   "cell_type": "code",
   "execution_count": 9,
   "metadata": {},
   "outputs": [
    {
     "data": {
      "image/png": "[encoded data removed]",
      "text/plain": [
       "<Figure size 432x288 with 1 Axes>"
      ]
     },
     "metadata": {
      "needs_background": "light"
     },
     "output_type": "display_data"
    }
   ],
   "source": [
    "plt.figure()\n",
    "plt.scatter(returns[MS],returns[AP],color=\"red\")\n",
    "plt.xlabel(MS+\" returns (x)\")\n",
    "plt.ylabel(AP+\" returns (y)\")\n",
    "plt.title(\"Daily Returns\")\n",
    "# saver(\"returns_scatter\")\n",
    "plt.show()\n",
    "plt.close()"
   ]
  },
  {
   "cell_type": "code",
   "execution_count": 10,
   "metadata": {},
   "outputs": [],
   "source": [
    "data=100*returns.rename(columns={MS:\"x\",AP:\"y\"})"
   ]
  },
  {
   "cell_type": "code",
   "execution_count": 11,
   "metadata": {},
   "outputs": [],
   "source": [
    "class Regression:\n",
    "    def __init__(self,data):\n",
    "        self.xvals=data[\"x\"]\n",
    "        self.yvals=data[\"y\"]\n",
    "        self.reset()\n",
    "        \n",
    "    def reset(self):\n",
    "        self.ctr=0\n",
    "        self.callbacktext=[]\n",
    "        \n",
    "    def make_linear_function(self,m,b):\n",
    "        def linear_function(x):\n",
    "            return m*x+b\n",
    "        return linear_function\n",
    "    \n",
    "    def Err(self,x):\n",
    "        (m,b)=x\n",
    "        linear_function=self.make_linear_function(m,b)\n",
    "        err=self.yvals-linear_function(self.xvals)\n",
    "        return 0.5*numpy.mean(err**2)\n",
    "\n",
    "    \n",
    "    def callback(self,x,verbose=False):\n",
    "        (m,b)=x\n",
    "        outstr=\"ctr={0:}; (m,b)=({1:.3f},{2:.2E}); error={3:.2E}\".format(self.ctr,m,b,self.Err(x))\n",
    "        self.callbacktext.append(outstr)\n",
    "        if verbose:\n",
    "            print(outstr)\n",
    "        self.ctr+=1"
   ]
  },
  {
   "cell_type": "code",
   "execution_count": 12,
   "metadata": {},
   "outputs": [],
   "source": [
    "myregression=Regression(data)"
   ]
  },
  {
   "cell_type": "code",
   "execution_count": 13,
   "metadata": {},
   "outputs": [
    {
     "name": "stdout",
     "output_type": "stream",
     "text": [
      "m=0.8764603174528595; b=-0.037044116163425504\n"
     ]
    }
   ],
   "source": [
    "bestline=minimize(myregression.Err,[0,0],callback=myregression.callback)\n",
    "(m_best,b_best)=bestline[\"x\"]\n",
    "print(\"m={0:}; b={1:}\".format(m_best,b_best))"
   ]
  },
  {
   "cell_type": "code",
   "execution_count": 14,
   "metadata": {},
   "outputs": [
    {
     "data": {
      "text/plain": [
       "['ctr=0; (m,b)=(1.009,4.09E-02); error=1.04E+00',\n",
       " 'ctr=1; (m,b)=(0.876,-3.62E-02); error=1.02E+00',\n",
       " 'ctr=2; (m,b)=(0.876,-3.70E-02); error=1.02E+00']"
      ]
     },
     "execution_count": 14,
     "metadata": {},
     "output_type": "execute_result"
    }
   ],
   "source": [
    "myregression.callbacktext"
   ]
  },
  {
   "cell_type": "code",
   "execution_count": 15,
   "metadata": {},
   "outputs": [
    {
     "data": {
      "image/png": "[encoded data removed]",
      "text/plain": [
       "<Figure size 432x288 with 1 Axes>"
      ]
     },
     "metadata": {
      "needs_background": "light"
     },
     "output_type": "display_data"
    }
   ],
   "source": [
    "plt.figure()\n",
    "plt.scatter(data[\"x\"],data[\"y\"],label=None,color=\"red\")\n",
    "plt.xlabel(\"MSFT\")\n",
    "plt.ylabel(\"APPL\")\n",
    "xlims=numpy.array(plt.gca().get_xlim())\n",
    "plt.plot(xlims,m_best*xlims+b_best,color=\"blue\",label=\"{0:.3}x+{1:.3E}\".format(m_best,b_best))\n",
    "plt.legend()\n",
    "plt.title(\"APPL on MSFT\")\n",
    "plt.show()\n",
    "plt.close()"
   ]
  },
  {
   "cell_type": "markdown",
   "metadata": {},
   "source": [
    "## Regress MSFT on APPL"
   ]
  },
  {
   "cell_type": "code",
   "execution_count": 16,
   "metadata": {},
   "outputs": [
    {
     "data": {
      "image/png": "[encoded data removed]",
      "text/plain": [
       "<Figure size 432x288 with 1 Axes>"
      ]
     },
     "metadata": {
      "needs_background": "light"
     },
     "output_type": "display_data"
    }
   ],
   "source": [
    "plt.figure()\n",
    "plt.scatter(returns[AP],returns[MS],color=\"red\")\n",
    "plt.xlabel(AP+\" returns (x)\")\n",
    "plt.ylabel(MS+\" returns (y)\")\n",
    "plt.title(\"Daily Returns\")\n",
    "# saver(\"returns_scatter\")\n",
    "plt.show()\n",
    "plt.close()"
   ]
  },
  {
   "cell_type": "code",
   "execution_count": 17,
   "metadata": {},
   "outputs": [],
   "source": [
    "data1=100*returns.rename(columns={AP:\"x\",MS:\"y\"})"
   ]
  },
  {
   "cell_type": "code",
   "execution_count": 18,
   "metadata": {},
   "outputs": [],
   "source": [
    "myregression1=Regression(data1)"
   ]
  },
  {
   "cell_type": "code",
   "execution_count": 19,
   "metadata": {},
   "outputs": [
    {
     "name": "stdout",
     "output_type": "stream",
     "text": [
      "m=0.5435544774543204; b=0.0936596703258214\n"
     ]
    }
   ],
   "source": [
    "bestline=minimize(myregression1.Err,[0,0],callback=myregression1.callback)\n",
    "(m_best,b_best)=bestline[\"x\"]\n",
    "print(\"m={0:}; b={1:}\".format(m_best,b_best))"
   ]
  },
  {
   "cell_type": "code",
   "execution_count": 20,
   "metadata": {},
   "outputs": [
    {
     "data": {
      "text/plain": [
       "['ctr=0; (m,b)=(1.008,6.67E-02); error=1.05E+00',\n",
       " 'ctr=1; (m,b)=(0.823,7.74E-02); error=7.82E-01',\n",
       " 'ctr=2; (m,b)=(0.544,9.37E-02); error=6.30E-01']"
      ]
     },
     "execution_count": 20,
     "metadata": {},
     "output_type": "execute_result"
    }
   ],
   "source": [
    "myregression1.callbacktext"
   ]
  },
  {
   "cell_type": "code",
   "execution_count": 21,
   "metadata": {},
   "outputs": [
    {
     "data": {
      "image/png": "[encoded data removed]",
      "text/plain": [
       "<Figure size 432x288 with 1 Axes>"
      ]
     },
     "metadata": {
      "needs_background": "light"
     },
     "output_type": "display_data"
    }
   ],
   "source": [
    "plt.figure()\n",
    "plt.scatter(data[\"y\"],data[\"x\"],label=None,color=\"red\")\n",
    "plt.xlabel(\"APPL\")\n",
    "plt.ylabel(\"MSFT\")\n",
    "xlims=numpy.array(plt.gca().get_xlim())\n",
    "plt.plot(xlims,m_best*xlims+b_best,color=\"blue\",label=\"{0:.3}x+{1:.3E}\".format(m_best,b_best))\n",
    "plt.legend()\n",
    "plt.title(\"MSFT on APPL\")\n",
    "plt.show()\n",
    "plt.close()"
   ]
  },
  {
   "cell_type": "markdown",
   "metadata": {},
   "source": [
    "# As a result, it is clear to see that the linear regression MSFT on APPL has a smaller error of 0.63 compare to APPL on MSFT which has a error of 1.02. \n",
    "# The dataset is derived over the year, and we can draw a conclusion during this time interval Apple drives the returns of Microsoft."
   ]
  }
 ],
 "metadata": {
  "kernelspec": {
   "display_name": "Python 3",
   "language": "python",
   "name": "python3"
  },
  "language_info": {
   "codemirror_mode": {
    "name": "ipython",
    "version": 3
   },
   "file_extension": ".py",
   "mimetype": "text/x-python",
   "name": "python",
   "nbconvert_exporter": "python",
   "pygments_lexer": "ipython3",
   "version": "3.7.4"
  }
 },
 "nbformat": 4,
 "nbformat_minor": 2
}
