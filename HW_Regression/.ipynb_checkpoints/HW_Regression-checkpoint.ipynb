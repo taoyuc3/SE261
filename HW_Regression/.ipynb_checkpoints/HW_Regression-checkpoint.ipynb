{
 "cells": [
  {
   "cell_type": "markdown",
   "metadata": {},
   "source": [
    "## HW: Regression ##\n",
    "\n",
    "### due 2019-10-29 ###\n",
    "\n",
    "HW submission by group (up to 4 people)\n",
    "* Taoyu Cai <taoyuc3@illinois.edu>"
   ]
  },
  {
   "cell_type": "markdown",
   "metadata": {},
   "source": [
    "### imports ###"
   ]
  },
  {
   "cell_type": "code",
   "execution_count": null,
   "metadata": {},
   "outputs": [],
   "source": [
    "import numpy\n",
    "import pandas\n",
    "import time\n",
    "import random\n",
    "import matplotlib\n",
    "#%matplotlib notebook\n",
    "import matplotlib.pyplot as plt\n",
    "import scipy.stats\n",
    "import matplotlib.offsetbox as offsetbox\n",
    "from matplotlib.ticker import StrMethodFormatter\n",
    "from scipy.optimize import minimize\n"
   ]
  },
  {
   "cell_type": "code",
   "execution_count": null,
   "metadata": {},
   "outputs": [],
   "source": [
    "params={\n",
    "    \"font.size\":15,\n",
    "    \"lines.linewidth\":5,\n",
    "}\n",
    "plt.rcParams.update(params)"
   ]
  },
  {
   "cell_type": "markdown",
   "metadata": {},
   "source": [
    "**Problem:**  Download historical ticker prices for AAPL and MSFT from <https://finance.yahoo.com/>\n",
    "Compute and then plot the returns\n",
    "Regress AAPL on MSFT and then regress MSFT on AAPL.  Which is a \"better\" regression (i.e., does MSFT drive AAPL or vice versa?)"
   ]
  },
  {
   "cell_type": "code",
   "execution_count": null,
   "metadata": {},
   "outputs": [],
   "source": [
    "MS=\"MSFT\"\n",
    "AP=\"AAPL\""
   ]
  },
  {
   "cell_type": "code",
   "execution_count": 1,
   "metadata": {},
   "outputs": [
    {
     "ename": "NameError",
     "evalue": "name 'MS' is not defined",
     "output_type": "error",
     "traceback": [
      "\u001b[0;31m---------------------------------------------------------------------------\u001b[0m",
      "\u001b[0;31mNameError\u001b[0m                                 Traceback (most recent call last)",
      "\u001b[0;32m<ipython-input-1-5c81c1117293>\u001b[0m in \u001b[0;36m<module>\u001b[0;34m\u001b[0m\n\u001b[1;32m      5\u001b[0m     \u001b[0;32mreturn\u001b[0m \u001b[0mS\u001b[0m\u001b[0;34m.\u001b[0m\u001b[0mcopy\u001b[0m\u001b[0;34m(\u001b[0m\u001b[0;34m)\u001b[0m\u001b[0;34m\u001b[0m\u001b[0;34m\u001b[0m\u001b[0m\n\u001b[1;32m      6\u001b[0m \u001b[0;34m\u001b[0m\u001b[0m\n\u001b[0;32m----> 7\u001b[0;31m \u001b[0mms\u001b[0m\u001b[0;34m=\u001b[0m\u001b[0mgetdata\u001b[0m\u001b[0;34m(\u001b[0m\u001b[0mMS\u001b[0m\u001b[0;34m)\u001b[0m\u001b[0;34m\u001b[0m\u001b[0;34m\u001b[0m\u001b[0m\n\u001b[0m\u001b[1;32m      8\u001b[0m \u001b[0map\u001b[0m\u001b[0;34m=\u001b[0m\u001b[0mgetdata\u001b[0m\u001b[0;34m(\u001b[0m\u001b[0mAP\u001b[0m\u001b[0;34m)\u001b[0m\u001b[0;34m\u001b[0m\u001b[0;34m\u001b[0m\u001b[0m\n\u001b[1;32m      9\u001b[0m \u001b[0;34m\u001b[0m\u001b[0m\n",
      "\u001b[0;31mNameError\u001b[0m: name 'MS' is not defined"
     ]
    }
   ],
   "source": [
    "def getdata(ticker):\n",
    "    data=pandas.read_csv(ticker +\".csv\",index_col=0)\n",
    "    data.index = pandas.to_datetime(data.index)\n",
    "    S=pandas.Series(data[\"Adj Close\"],name=ticker)\n",
    "    return S.copy()\n",
    "\n",
    "ms=getdata(MS)\n",
    "ap=getdata(AP)\n",
    "\n",
    "print(ms.tail(n=10))\n",
    "print(\"\\n\",ap.tail(n=10))"
   ]
  },
  {
   "cell_type": "code",
   "execution_count": null,
   "metadata": {},
   "outputs": [],
   "source": [
    "data_raw=pandas.concat([ms,ap],axis=\"columns\",join=\"inner\")\n",
    "data_raw.tail(n=10)"
   ]
  },
  {
   "cell_type": "code",
   "execution_count": null,
   "metadata": {},
   "outputs": [],
   "source": [
    "prices=data_raw.copy()\n",
    "prices.tail(n=10)"
   ]
  },
  {
   "cell_type": "code",
   "execution_count": null,
   "metadata": {},
   "outputs": [],
   "source": [
    "returns=prices/prices.shift()-1\n",
    "returns=returns.dropna(axis=\"index\")\n",
    "returns.tail(n=10)"
   ]
  },
  {
   "cell_type": "code",
   "execution_count": null,
   "metadata": {},
   "outputs": [],
   "source": [
    "# plt.figure()\n",
    "plt.plot(returns.index,returns[\"MSFT\"].values,label=MS,color=\"orange\",linewidth=3)\n",
    "plt.plot(returns.index,returns[\"AAPL\"].values,label=AP,color=\"purple\",linewidth=2)\n",
    "plt.legend()\n",
    "plt.title(\"Returns\")\n",
    "plt.xticks(rotation=25)\n",
    "# saver(\"returns\")\n",
    "plt.show()\n",
    "# plt.close()"
   ]
  },
  {
   "cell_type": "markdown",
   "metadata": {},
   "source": [
    "## Regress AAPL on MSFT"
   ]
  },
  {
   "cell_type": "code",
   "execution_count": null,
   "metadata": {},
   "outputs": [],
   "source": [
    "plt.figure()\n",
    "plt.scatter(returns[MS],returns[AP],color=\"red\")\n",
    "plt.xlabel(MS+\" returns (x)\")\n",
    "plt.ylabel(AP+\" returns (y)\")\n",
    "plt.title(\"Daily Returns\")\n",
    "# saver(\"returns_scatter\")\n",
    "plt.show()\n",
    "plt.close()"
   ]
  },
  {
   "cell_type": "code",
   "execution_count": null,
   "metadata": {},
   "outputs": [],
   "source": [
    "data=100*returns.rename(columns={MS:\"x\",AP:\"y\"})"
   ]
  },
  {
   "cell_type": "code",
   "execution_count": null,
   "metadata": {},
   "outputs": [],
   "source": [
    "class Regression:\n",
    "    def __init__(self,data):\n",
    "        self.xvals=data[\"x\"]\n",
    "        self.yvals=data[\"y\"]\n",
    "        self.reset()\n",
    "        \n",
    "    def reset(self):\n",
    "        self.ctr=0\n",
    "        self.callbacktext=[]\n",
    "        \n",
    "    def make_linear_function(self,m,b):\n",
    "        def linear_function(x):\n",
    "            return m*x+b\n",
    "        return linear_function\n",
    "    \n",
    "    def Err(self,x):\n",
    "        (m,b)=x\n",
    "        linear_function=self.make_linear_function(m,b)\n",
    "        err=self.yvals-linear_function(self.xvals)\n",
    "        return 0.5*numpy.mean(err**2)\n",
    "\n",
    "    \n",
    "    def callback(self,x,verbose=False):\n",
    "        (m,b)=x\n",
    "        outstr=\"ctr={0:}; (m,b)=({1:.3f},{2:.2E}); error={3:.2E}\".format(self.ctr,m,b,self.Err(x))\n",
    "        self.callbacktext.append(outstr)\n",
    "        if verbose:\n",
    "            print(outstr)\n",
    "        self.ctr+=1"
   ]
  },
  {
   "cell_type": "code",
   "execution_count": null,
   "metadata": {},
   "outputs": [],
   "source": [
    "myregression=Regression(data)"
   ]
  },
  {
   "cell_type": "code",
   "execution_count": null,
   "metadata": {},
   "outputs": [],
   "source": [
    "bestline=minimize(myregression.Err,[0,0],callback=myregression.callback)\n",
    "(m_best,b_best)=bestline[\"x\"]\n",
    "print(\"m={0:}; b={1:}\".format(m_best,b_best))"
   ]
  },
  {
   "cell_type": "code",
   "execution_count": null,
   "metadata": {},
   "outputs": [],
   "source": [
    "myregression.callbacktext"
   ]
  },
  {
   "cell_type": "code",
   "execution_count": null,
   "metadata": {},
   "outputs": [],
   "source": [
    "plt.figure()\n",
    "plt.scatter(data[\"x\"],data[\"y\"],label=None,color=\"red\")\n",
    "plt.xlabel(\"MSFT\")\n",
    "plt.ylabel(\"APPL\")\n",
    "xlims=numpy.array(plt.gca().get_xlim())\n",
    "plt.plot(xlims,m_best*xlims+b_best,color=\"blue\",label=\"{0:.3}x+{1:.3E}\".format(m_best,b_best))\n",
    "plt.legend()\n",
    "plt.title(\"APPL on MSFT\")\n",
    "plt.show()\n",
    "plt.close()"
   ]
  },
  {
   "cell_type": "markdown",
   "metadata": {},
   "source": [
    "## Regress MSFT on APPL"
   ]
  },
  {
   "cell_type": "code",
   "execution_count": null,
   "metadata": {},
   "outputs": [],
   "source": [
    "plt.figure()\n",
    "plt.scatter(returns[AP],returns[MS],color=\"red\")\n",
    "plt.xlabel(AP+\" returns (x)\")\n",
    "plt.ylabel(MS+\" returns (y)\")\n",
    "plt.title(\"Daily Returns\")\n",
    "# saver(\"returns_scatter\")\n",
    "plt.show()\n",
    "plt.close()"
   ]
  },
  {
   "cell_type": "code",
   "execution_count": null,
   "metadata": {},
   "outputs": [],
   "source": [
    "data1=100*returns.rename(columns={AP:\"x\",MS:\"y\"})"
   ]
  },
  {
   "cell_type": "code",
   "execution_count": null,
   "metadata": {},
   "outputs": [],
   "source": [
    "myregression1=Regression(data1)"
   ]
  },
  {
   "cell_type": "code",
   "execution_count": null,
   "metadata": {},
   "outputs": [],
   "source": [
    "bestline=minimize(myregression1.Err,[0,0],callback=myregression1.callback)\n",
    "(m_best,b_best)=bestline[\"x\"]\n",
    "print(\"m={0:}; b={1:}\".format(m_best,b_best))"
   ]
  },
  {
   "cell_type": "code",
   "execution_count": null,
   "metadata": {},
   "outputs": [],
   "source": [
    "myregression1.callbacktext"
   ]
  },
  {
   "cell_type": "code",
   "execution_count": null,
   "metadata": {},
   "outputs": [],
   "source": [
    "plt.figure()\n",
    "plt.scatter(data[\"y\"],data[\"x\"],label=None,color=\"red\")\n",
    "plt.xlabel(\"APPL\")\n",
    "plt.ylabel(\"MSFT\")\n",
    "xlims=numpy.array(plt.gca().get_xlim())\n",
    "plt.plot(xlims,m_best*xlims+b_best,color=\"blue\",label=\"{0:.3}x+{1:.3E}\".format(m_best,b_best))\n",
    "plt.legend()\n",
    "plt.title(\"MSFT on APPL\")\n",
    "plt.show()\n",
    "plt.close()"
   ]
  },
  {
   "cell_type": "markdown",
   "metadata": {},
   "source": [
    "# As a result, it is clear to see that the linear regression MSFT on APPL has a smaller error of 0.63 compare to APPL on MSFT which has a error of 1.02. \n",
    "# The dataset is derived over the year, and we can draw a conclusion during this time interval Apple drives the returns of Microsoft."
   ]
  }
 ],
 "metadata": {
  "kernelspec": {
   "display_name": "Python 3",
   "language": "python",
   "name": "python3"
  },
  "language_info": {
   "codemirror_mode": {
    "name": "ipython",
    "version": 3
   },
   "file_extension": ".py",
   "mimetype": "text/x-python",
   "name": "python",
   "nbconvert_exporter": "python",
   "pygments_lexer": "ipython3",
   "version": "3.7.4"
  }
 },
 "nbformat": 4,
 "nbformat_minor": 2
}
