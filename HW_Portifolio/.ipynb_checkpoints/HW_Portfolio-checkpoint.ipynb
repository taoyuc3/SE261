{
 "cells": [
  {
   "cell_type": "markdown",
   "metadata": {},
   "source": [
    "## HW: Portfolio ##\n",
    "### due 2019-11-12 ###\n",
    "\n",
    "HW submission by group (up to 4 people)\n",
    "\n",
    "* Taoyu Cai <taoyuc3@illinois.edu>\n"
   ]
  },
  {
   "cell_type": "markdown",
   "metadata": {},
   "source": [
    "### imports ###"
   ]
  },
  {
   "cell_type": "code",
   "execution_count": 3,
   "metadata": {},
   "outputs": [],
   "source": [
    "import numpy\n",
    "import pandas\n",
    "import time\n",
    "import random\n",
    "import matplotlib\n",
    "#%matplotlib notebook\n",
    "import matplotlib.pyplot as plt\n",
    "import scipy.stats\n",
    "import matplotlib.offsetbox as offsetbox\n",
    "from matplotlib.ticker import StrMethodFormatter"
   ]
  },
  {
   "cell_type": "code",
   "execution_count": 4,
   "metadata": {},
   "outputs": [],
   "source": [
    "params={\n",
    "    \"font.size\":15,\n",
    "    \"lines.linewidth\":5,\n",
    "}\n",
    "plt.rcParams.update(params)"
   ]
  },
  {
   "cell_type": "markdown",
   "metadata": {},
   "source": [
    "**Problem:**  Download historical ticker prices for AAPL and SPY from <https://finance.yahoo.com/>\n",
    "Consider a strategy of the following:\n",
    "* if AAPL goes down two days in a row, buy a share the next day and sell it the ensuing day.\n",
    "* if AAPL goes up two days in a row, short a share the next day and unload the short the ensuing day.\n",
    "* if neither happens, buy a share of SPY and sell it the ensuing day (i.e., the market)\n",
    "\n",
    "What is the alpha and beta of this strategy?"
   ]
  },
  {
   "cell_type": "code",
   "execution_count": 33,
   "metadata": {},
   "outputs": [],
   "source": [
    "MARKET=\"SPY\"\n",
    "ASSET=\"AAPL\"\n",
    "Treasury=1.53/100 #as of 11/01/2019\n",
    "riskfree=Treasury/249"
   ]
  },
  {
   "cell_type": "code",
   "execution_count": 34,
   "metadata": {},
   "outputs": [
    {
     "name": "stdout",
     "output_type": "stream",
     "text": [
      "Date\n",
      "2019-10-21    299.989990\n",
      "2019-10-22    299.010010\n",
      "2019-10-23    299.880005\n",
      "2019-10-24    300.369995\n",
      "2019-10-25    301.600006\n",
      "2019-10-28    303.299988\n",
      "2019-10-29    303.209991\n",
      "2019-10-30    304.140015\n",
      "2019-10-31    303.329987\n",
      "2019-11-01    306.140015\n",
      "Name: SPY, dtype: float64\n",
      "Date\n",
      "2019-10-21    240.509995\n",
      "2019-10-22    239.960007\n",
      "2019-10-23    243.179993\n",
      "2019-10-24    243.580002\n",
      "2019-10-25    246.580002\n",
      "2019-10-28    249.050003\n",
      "2019-10-29    243.289993\n",
      "2019-10-30    243.259995\n",
      "2019-10-31    248.759995\n",
      "2019-11-01    255.820007\n",
      "Name: AAPL, dtype: float64\n"
     ]
    }
   ],
   "source": [
    "def getdata(ticker):\n",
    "    data=pandas.read_csv(ticker+\".csv\",index_col=0)\n",
    "    data.index = pandas.to_datetime(data.index)\n",
    "    S=pandas.Series(data[\"Adj Close\"],name=ticker)\n",
    "    return S.copy()\n",
    "\n",
    "market=getdata(MARKET)\n",
    "asset=getdata(ASSET)\n",
    "\n",
    "print(market.tail(n=10))\n",
    "print(asset.tail(n=10))"
   ]
  },
  {
   "cell_type": "code",
   "execution_count": 35,
   "metadata": {},
   "outputs": [
    {
     "data": {
      "text/html": [
       "<div>\n",
       "<style scoped>\n",
       "    .dataframe tbody tr th:only-of-type {\n",
       "        vertical-align: middle;\n",
       "    }\n",
       "\n",
       "    .dataframe tbody tr th {\n",
       "        vertical-align: top;\n",
       "    }\n",
       "\n",
       "    .dataframe thead th {\n",
       "        text-align: right;\n",
       "    }\n",
       "</style>\n",
       "<table border=\"1\" class=\"dataframe\">\n",
       "  <thead>\n",
       "    <tr style=\"text-align: right;\">\n",
       "      <th></th>\n",
       "      <th>SPY</th>\n",
       "      <th>AAPL</th>\n",
       "    </tr>\n",
       "    <tr>\n",
       "      <th>Date</th>\n",
       "      <th></th>\n",
       "      <th></th>\n",
       "    </tr>\n",
       "  </thead>\n",
       "  <tbody>\n",
       "    <tr>\n",
       "      <td>2019-10-21</td>\n",
       "      <td>299.989990</td>\n",
       "      <td>240.509995</td>\n",
       "    </tr>\n",
       "    <tr>\n",
       "      <td>2019-10-22</td>\n",
       "      <td>299.010010</td>\n",
       "      <td>239.960007</td>\n",
       "    </tr>\n",
       "    <tr>\n",
       "      <td>2019-10-23</td>\n",
       "      <td>299.880005</td>\n",
       "      <td>243.179993</td>\n",
       "    </tr>\n",
       "    <tr>\n",
       "      <td>2019-10-24</td>\n",
       "      <td>300.369995</td>\n",
       "      <td>243.580002</td>\n",
       "    </tr>\n",
       "    <tr>\n",
       "      <td>2019-10-25</td>\n",
       "      <td>301.600006</td>\n",
       "      <td>246.580002</td>\n",
       "    </tr>\n",
       "    <tr>\n",
       "      <td>2019-10-28</td>\n",
       "      <td>303.299988</td>\n",
       "      <td>249.050003</td>\n",
       "    </tr>\n",
       "    <tr>\n",
       "      <td>2019-10-29</td>\n",
       "      <td>303.209991</td>\n",
       "      <td>243.289993</td>\n",
       "    </tr>\n",
       "    <tr>\n",
       "      <td>2019-10-30</td>\n",
       "      <td>304.140015</td>\n",
       "      <td>243.259995</td>\n",
       "    </tr>\n",
       "    <tr>\n",
       "      <td>2019-10-31</td>\n",
       "      <td>303.329987</td>\n",
       "      <td>248.759995</td>\n",
       "    </tr>\n",
       "    <tr>\n",
       "      <td>2019-11-01</td>\n",
       "      <td>306.140015</td>\n",
       "      <td>255.820007</td>\n",
       "    </tr>\n",
       "  </tbody>\n",
       "</table>\n",
       "</div>"
      ],
      "text/plain": [
       "                   SPY        AAPL\n",
       "Date                              \n",
       "2019-10-21  299.989990  240.509995\n",
       "2019-10-22  299.010010  239.960007\n",
       "2019-10-23  299.880005  243.179993\n",
       "2019-10-24  300.369995  243.580002\n",
       "2019-10-25  301.600006  246.580002\n",
       "2019-10-28  303.299988  249.050003\n",
       "2019-10-29  303.209991  243.289993\n",
       "2019-10-30  304.140015  243.259995\n",
       "2019-10-31  303.329987  248.759995\n",
       "2019-11-01  306.140015  255.820007"
      ]
     },
     "execution_count": 35,
     "metadata": {},
     "output_type": "execute_result"
    }
   ],
   "source": [
    "data_raw=pandas.concat([market,asset],axis=\"columns\",join=\"inner\")\n",
    "data_raw.tail(n=10)"
   ]
  },
  {
   "cell_type": "code",
   "execution_count": 42,
   "metadata": {},
   "outputs": [],
   "source": [
    "prices=data_raw.copy()"
   ]
  },
  {
   "cell_type": "code",
   "execution_count": 158,
   "metadata": {},
   "outputs": [
    {
     "data": {
      "text/plain": [
       "Date\n",
       "2018-11-05         NaN\n",
       "2018-11-06    0.010753\n",
       "2018-11-07    0.030267\n",
       "2018-11-08   -0.003550\n",
       "2018-11-09   -0.019343\n",
       "                ...   \n",
       "2019-10-28    0.009956\n",
       "2019-10-29   -0.023189\n",
       "2019-10-30   -0.000185\n",
       "2019-10-31    0.022548\n",
       "2019-11-01    0.028320\n",
       "Name: AAPL, Length: 250, dtype: float64"
      ]
     },
     "execution_count": 158,
     "metadata": {},
     "output_type": "execute_result"
    }
   ],
   "source": [
    "returns= prices/prices.shift()-1\n",
    "returns_ra=returns-riskfree\n",
    "# returns_ra=returns_ra.dropna(axis=\"index\")\n",
    "# returns_ra.tail(n=10)\n",
    "returns_ra.AAPL"
   ]
  },
  {
   "cell_type": "code",
   "execution_count": 159,
   "metadata": {},
   "outputs": [
    {
     "data": {
      "image/png": "[encoded data removed]",
      "text/plain": [
       "<Figure size 432x288 with 1 Axes>"
      ]
     },
     "metadata": {
      "needs_background": "light"
     },
     "output_type": "display_data"
    }
   ],
   "source": [
    "plt.figure()\n",
    "plt.scatter(returns_ra[MARKET],returns_ra[ASSET])\n",
    "plt.xlabel(MARKET+\" returns\")\n",
    "plt.ylabel(ASSET+\" returns\")\n",
    "plt.title(\"Daily Returns\\nRisk-adjusted\\nWith risk-free rate={0:.2%}\".format(Treasury))\n",
    "plt.show()\n",
    "plt.close()"
   ]
  },
  {
   "cell_type": "code",
   "execution_count": 130,
   "metadata": {},
   "outputs": [
    {
     "name": "stdout",
     "output_type": "stream",
     "text": [
      "alpha: 0.0003340908002787787\n",
      "beta: 1.5535190131808818\n"
     ]
    }
   ],
   "source": [
    "slope,intercept,_,_,_=scipy.stats.linregress(returns_ra[MARKET],returns_ra[ASSET])\n",
    "print(\"alpha:\",intercept)\n",
    "print(\"beta:\",slope)\n"
   ]
  }
 ],
 "metadata": {
  "kernelspec": {
   "display_name": "Python 3",
   "language": "python",
   "name": "python3"
  },
  "language_info": {
   "codemirror_mode": {
    "name": "ipython",
    "version": 3
   },
   "file_extension": ".py",
   "mimetype": "text/x-python",
   "name": "python",
   "nbconvert_exporter": "python",
   "pygments_lexer": "ipython3",
   "version": "3.7.4"
  }
 },
 "nbformat": 4,
 "nbformat_minor": 2
}
